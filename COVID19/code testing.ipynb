{
 "cells": [
  {
   "cell_type": "code",
   "execution_count": 38,
   "metadata": {},
   "outputs": [],
   "source": [
    "import pandas as pd\n",
    "import numpy as np\n",
    "import os\n",
    "\n",
    "ts_confirmed = pd.read_csv(\"csse_covid_19_data/csse_covid_19_time_series/time_series_covid19_confirmed_global.csv\")\n",
    "ts_deaths = pd.read_csv(\"csse_covid_19_data/csse_covid_19_time_series/time_series_covid19_deaths_global.csv\")\n",
    "ts_recovered = pd.read_csv(\"csse_covid_19_data/csse_covid_19_time_series/time_series_covid19_recovered_global.csv\")\n",
    "\n",
    "#Turn the data into long format\n",
    "confirmed = ts_confirmed.melt(id_vars = [\"Province/State\", \"Country/Region\", \"Lat\", \"Long\"], var_name = \"Date\", value_name = \"Confirmed Cases\")\n",
    "deaths = ts_deaths.melt(id_vars = [\"Province/State\", \"Country/Region\", \"Lat\", \"Long\"], var_name = \"Date\", value_name = \"Deaths\")\n",
    "recovered = ts_recovered.melt(id_vars = [\"Province/State\", \"Country/Region\", \"Lat\", \"Long\"], var_name = \"Date\", value_name = \"Recovered Cases\")\n",
    "\n",
    "#Replace empty values\n",
    "confirmed[\"Confirmed Cases\"] = confirmed[\"Confirmed Cases\"].fillna(0)\n",
    "deaths[\"Deaths\"] = deaths[\"Deaths\"].fillna(0)\n",
    "recovered[\"Recovered Cases\"] = recovered[\"Recovered Cases\"].fillna(0)\n",
    "\n",
    "confirmed[\"Province/State\"] = confirmed[\"Province/State\"].fillna(\"\")\n",
    "deaths[\"Province/State\"] = deaths[\"Province/State\"].fillna(\"\")\n",
    "recovered[\"Province/State\"] = recovered[\"Province/State\"].fillna(\"\")"
   ]
  },
  {
   "cell_type": "code",
   "execution_count": 59,
   "metadata": {},
   "outputs": [],
   "source": [
    "confirmed[\"Date\"] = pd.to_datetime(confirmed[\"Date\"])"
   ]
  },
  {
   "cell_type": "code",
   "execution_count": 53,
   "metadata": {},
   "outputs": [],
   "source": [
    "countries = confirmed[\"Country/Region\"].unique()\n",
    "\n",
    "prov = []\n",
    "coun = []\n",
    "dat = []\n",
    "new = []\n",
    "\n",
    "for country in countries:\n",
    "    df = confirmed[confirmed[\"Country/Region\"] == country]\n",
    "    df = df.sort_values(by = \"Date\", axis = 0)\n",
    "    provinces = df[\"Province/State\"].unique()\n",
    "    current_confirmed = 0\n",
    "    new_cases = 0\n",
    "    \n",
    "    if len(provinces) != 0:\n",
    "        for province in provinces:\n",
    "            df = confirmed[(confirmed[\"Country/Region\"] == country) & (confirmed[\"Province/State\"] == province)]\n",
    "            \n",
    "            for index, row in df.iterrows():\n",
    "                new_cases = row[\"Confirmed Cases\"] - current_confirmed\n",
    "                prov.append(province)\n",
    "                coun.append(country)\n",
    "                dat.append(row[\"Date\"])\n",
    "                new.append(new_cases)\n",
    "                current_confirmed = row[\"Confirmed Cases\"]\n",
    "    else:\n",
    "        for index, row in df.iterrows():\n",
    "                new_cases = row[\"Confirmed Cases\"] - current_confirmed\n",
    "                prov.append(\"\")\n",
    "                coun.append(country)\n",
    "                dat.append(row[\"Date\"])\n",
    "                new.append(new_cases)\n",
    "                current_confirmed = row[\"Confirmed Cases\"]\n",
    "                \n",
    "new_case_df = pd.DataFrame({\"Province/State\": prov, \"Country/Region\": coun, \"Date\": dat, \"New Cases\":new})\n",
    "\n",
    "confirmed = confirmed.merge(new_case_df, how = \"left\")"
   ]
  },
  {
   "cell_type": "code",
   "execution_count": 54,
   "metadata": {},
   "outputs": [
    {
     "data": {
      "text/plain": [
       "Cayman Islands                 78\n",
       "Montserrat                     78\n",
       "Turks and Caicos Islands       78\n",
       "Channel Islands                78\n",
       "British Virgin Islands         78\n",
       "Bermuda                        78\n",
       "Gibraltar                      78\n",
       "Isle of Man                    78\n",
       "Anguilla                       78\n",
       "Falkland Islands (Malvinas)    78\n",
       "                               78\n",
       "Name: Province/State, dtype: int64"
      ]
     },
     "execution_count": 54,
     "metadata": {},
     "output_type": "execute_result"
    }
   ],
   "source": []
  }
 ],
 "metadata": {
  "kernelspec": {
   "display_name": "Python 3",
   "language": "python",
   "name": "python3"
  },
  "language_info": {
   "codemirror_mode": {
    "name": "ipython",
    "version": 3
   },
   "file_extension": ".py",
   "mimetype": "text/x-python",
   "name": "python",
   "nbconvert_exporter": "python",
   "pygments_lexer": "ipython3",
   "version": "3.7.6"
  }
 },
 "nbformat": 4,
 "nbformat_minor": 4
}
